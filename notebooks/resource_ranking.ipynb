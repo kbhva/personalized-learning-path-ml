{
 "cells": [
  {
   "cell_type": "code",
   "execution_count": 6,
   "id": "4728ce8c-48e2-4856-b9da-e6551d250339",
   "metadata": {},
   "outputs": [],
   "source": [
    "import pandas as pd\n",
    "import numpy as np\n",
    "import xgboost as xgb\n",
    "from sklearn.metrics import mean_squared_error, ndcg_score\n",
    "import matplotlib.pyplot as plt\n",
    "import seaborn as sns\n",
    "from sklearn.model_selection import train_test_split\n"
   ]
  },
  {
   "cell_type": "code",
   "execution_count": 7,
   "id": "6355e7a4-662c-48bd-b358-1934d4c58bea",
   "metadata": {},
   "outputs": [
    {
     "data": {
      "text/html": [
       "<div>\n",
       "<style scoped>\n",
       "    .dataframe tbody tr th:only-of-type {\n",
       "        vertical-align: middle;\n",
       "    }\n",
       "\n",
       "    .dataframe tbody tr th {\n",
       "        vertical-align: top;\n",
       "    }\n",
       "\n",
       "    .dataframe thead th {\n",
       "        text-align: right;\n",
       "    }\n",
       "</style>\n",
       "<table border=\"1\" class=\"dataframe\">\n",
       "  <thead>\n",
       "    <tr style=\"text-align: right;\">\n",
       "      <th></th>\n",
       "      <th>resource_id</th>\n",
       "      <th>title</th>\n",
       "      <th>url</th>\n",
       "      <th>topic</th>\n",
       "      <th>length</th>\n",
       "      <th>type</th>\n",
       "      <th>difficulty</th>\n",
       "      <th>popularity</th>\n",
       "      <th>rating</th>\n",
       "      <th>difficulty_encoded</th>\n",
       "      <th>type_encoded</th>\n",
       "      <th>score</th>\n",
       "    </tr>\n",
       "  </thead>\n",
       "  <tbody>\n",
       "    <tr>\n",
       "      <th>0</th>\n",
       "      <td>1</td>\n",
       "      <td>Python Basics YouTube</td>\n",
       "      <td>https://youtube.com/python_basics</td>\n",
       "      <td>Introduction to Python</td>\n",
       "      <td>15</td>\n",
       "      <td>video</td>\n",
       "      <td>easy</td>\n",
       "      <td>50000</td>\n",
       "      <td>4.5</td>\n",
       "      <td>1</td>\n",
       "      <td>0</td>\n",
       "      <td>225000.0</td>\n",
       "    </tr>\n",
       "    <tr>\n",
       "      <th>1</th>\n",
       "      <td>2</td>\n",
       "      <td>Python Official Docs</td>\n",
       "      <td>https://python.org/docs</td>\n",
       "      <td>Introduction to Python</td>\n",
       "      <td>60</td>\n",
       "      <td>article</td>\n",
       "      <td>medium</td>\n",
       "      <td>30000</td>\n",
       "      <td>4.0</td>\n",
       "      <td>2</td>\n",
       "      <td>1</td>\n",
       "      <td>120000.0</td>\n",
       "    </tr>\n",
       "    <tr>\n",
       "      <th>2</th>\n",
       "      <td>3</td>\n",
       "      <td>Data Structures Playlist</td>\n",
       "      <td>https://youtube.com/data_structures</td>\n",
       "      <td>Data Structures</td>\n",
       "      <td>120</td>\n",
       "      <td>video</td>\n",
       "      <td>medium</td>\n",
       "      <td>40000</td>\n",
       "      <td>4.3</td>\n",
       "      <td>2</td>\n",
       "      <td>0</td>\n",
       "      <td>172000.0</td>\n",
       "    </tr>\n",
       "    <tr>\n",
       "      <th>3</th>\n",
       "      <td>4</td>\n",
       "      <td>DSA Blog</td>\n",
       "      <td>https://dsa-blog.com</td>\n",
       "      <td>Data Structures</td>\n",
       "      <td>20</td>\n",
       "      <td>article</td>\n",
       "      <td>hard</td>\n",
       "      <td>10000</td>\n",
       "      <td>3.8</td>\n",
       "      <td>3</td>\n",
       "      <td>1</td>\n",
       "      <td>38000.0</td>\n",
       "    </tr>\n",
       "    <tr>\n",
       "      <th>4</th>\n",
       "      <td>5</td>\n",
       "      <td>OOP Concepts Course</td>\n",
       "      <td>https://course.com/oop</td>\n",
       "      <td>OOP Concepts</td>\n",
       "      <td>180</td>\n",
       "      <td>video</td>\n",
       "      <td>medium</td>\n",
       "      <td>25000</td>\n",
       "      <td>4.2</td>\n",
       "      <td>2</td>\n",
       "      <td>0</td>\n",
       "      <td>105000.0</td>\n",
       "    </tr>\n",
       "  </tbody>\n",
       "</table>\n",
       "</div>"
      ],
      "text/plain": [
       "   resource_id                     title                                  url  \\\n",
       "0            1     Python Basics YouTube    https://youtube.com/python_basics   \n",
       "1            2      Python Official Docs              https://python.org/docs   \n",
       "2            3  Data Structures Playlist  https://youtube.com/data_structures   \n",
       "3            4                  DSA Blog                 https://dsa-blog.com   \n",
       "4            5       OOP Concepts Course               https://course.com/oop   \n",
       "\n",
       "                    topic  length     type difficulty  popularity  rating  \\\n",
       "0  Introduction to Python      15    video       easy       50000     4.5   \n",
       "1  Introduction to Python      60  article     medium       30000     4.0   \n",
       "2         Data Structures     120    video     medium       40000     4.3   \n",
       "3         Data Structures      20  article       hard       10000     3.8   \n",
       "4            OOP Concepts     180    video     medium       25000     4.2   \n",
       "\n",
       "   difficulty_encoded  type_encoded     score  \n",
       "0                   1             0  225000.0  \n",
       "1                   2             1  120000.0  \n",
       "2                   2             0  172000.0  \n",
       "3                   3             1   38000.0  \n",
       "4                   2             0  105000.0  "
      ]
     },
     "execution_count": 7,
     "metadata": {},
     "output_type": "execute_result"
    }
   ],
   "source": [
    "df = pd.read_csv(\"../datasets/resources.csv\")\n",
    "\n",
    "difficulty_map = {'easy': 1, 'medium': 2, 'hard': 3}\n",
    "df['difficulty_encoded'] = df['difficulty'].map(difficulty_map)\n",
    "\n",
    "type_map = {'video': 0, 'article': 1}\n",
    "df['type_encoded'] = df['type'].map(type_map)\n",
    "\n",
    "df['score'] = df['rating'] * df['popularity']\n",
    "\n",
    "df.head()\n"
   ]
  },
  {
   "cell_type": "code",
   "execution_count": 8,
   "id": "63e4dd2b-f699-4b5e-96f5-67f08e7a5525",
   "metadata": {},
   "outputs": [
    {
     "name": "stdout",
     "output_type": "stream",
     "text": [
      "<class 'pandas.core.frame.DataFrame'>\n",
      "RangeIndex: 12 entries, 0 to 11\n",
      "Data columns (total 12 columns):\n",
      " #   Column              Non-Null Count  Dtype  \n",
      "---  ------              --------------  -----  \n",
      " 0   resource_id         12 non-null     int64  \n",
      " 1   title               12 non-null     object \n",
      " 2   url                 12 non-null     object \n",
      " 3   topic               12 non-null     object \n",
      " 4   length              12 non-null     int64  \n",
      " 5   type                12 non-null     object \n",
      " 6   difficulty          12 non-null     object \n",
      " 7   popularity          12 non-null     int64  \n",
      " 8   rating              12 non-null     float64\n",
      " 9   difficulty_encoded  12 non-null     int64  \n",
      " 10  type_encoded        12 non-null     int64  \n",
      " 11  score               12 non-null     float64\n",
      "dtypes: float64(2), int64(5), object(5)\n",
      "memory usage: 1.3+ KB\n"
     ]
    },
    {
     "data": {
      "text/plain": [
       "resource_id           0\n",
       "title                 0\n",
       "url                   0\n",
       "topic                 0\n",
       "length                0\n",
       "type                  0\n",
       "difficulty            0\n",
       "popularity            0\n",
       "rating                0\n",
       "difficulty_encoded    0\n",
       "type_encoded          0\n",
       "score                 0\n",
       "dtype: int64"
      ]
     },
     "execution_count": 8,
     "metadata": {},
     "output_type": "execute_result"
    }
   ],
   "source": [
    "df.info()\n",
    "df.isnull().sum()\n"
   ]
  },
  {
   "cell_type": "code",
   "execution_count": 9,
   "id": "5914936e-e537-4ec6-8cf7-f078a0e7cbf8",
   "metadata": {},
   "outputs": [
    {
     "data": {
      "image/png": "[encoded data removed]",
      "text/plain": [
       "<Figure size 640x480 with 1 Axes>"
      ]
     },
     "metadata": {},
     "output_type": "display_data"
    },
    {
     "data": {
      "image/png": "[encoded data removed]",
      "text/plain": [
       "<Figure size 640x480 with 1 Axes>"
      ]
     },
     "metadata": {},
     "output_type": "display_data"
    }
   ],
   "source": [
    "sns.countplot(x=\"topic\", data=df)\n",
    "plt.title(\"Resources per Topic\")\n",
    "plt.xticks(rotation=45)\n",
    "plt.show()\n",
    "\n",
    "sns.boxplot(x=\"difficulty\", y=\"length\", data=df)\n",
    "plt.title(\"Length vs Difficulty\")\n",
    "plt.show()\n"
   ]
  },
  {
   "cell_type": "code",
   "execution_count": 10,
   "id": "e08eea0f-e518-409e-be52-e4fbe18a8091",
   "metadata": {},
   "outputs": [
    {
     "data": {
      "text/html": [
       "<div>\n",
       "<style scoped>\n",
       "    .dataframe tbody tr th:only-of-type {\n",
       "        vertical-align: middle;\n",
       "    }\n",
       "\n",
       "    .dataframe tbody tr th {\n",
       "        vertical-align: top;\n",
       "    }\n",
       "\n",
       "    .dataframe thead th {\n",
       "        text-align: right;\n",
       "    }\n",
       "</style>\n",
       "<table border=\"1\" class=\"dataframe\">\n",
       "  <thead>\n",
       "    <tr style=\"text-align: right;\">\n",
       "      <th></th>\n",
       "      <th>length</th>\n",
       "      <th>difficulty_encoded</th>\n",
       "      <th>type_encoded</th>\n",
       "      <th>popularity</th>\n",
       "      <th>rating</th>\n",
       "    </tr>\n",
       "  </thead>\n",
       "  <tbody>\n",
       "    <tr>\n",
       "      <th>8</th>\n",
       "      <td>40</td>\n",
       "      <td>2</td>\n",
       "      <td>1</td>\n",
       "      <td>17000</td>\n",
       "      <td>4.2</td>\n",
       "    </tr>\n",
       "    <tr>\n",
       "      <th>5</th>\n",
       "      <td>30</td>\n",
       "      <td>1</td>\n",
       "      <td>1</td>\n",
       "      <td>12000</td>\n",
       "      <td>4.0</td>\n",
       "    </tr>\n",
       "    <tr>\n",
       "      <th>2</th>\n",
       "      <td>120</td>\n",
       "      <td>2</td>\n",
       "      <td>0</td>\n",
       "      <td>40000</td>\n",
       "      <td>4.3</td>\n",
       "    </tr>\n",
       "    <tr>\n",
       "      <th>1</th>\n",
       "      <td>60</td>\n",
       "      <td>2</td>\n",
       "      <td>1</td>\n",
       "      <td>30000</td>\n",
       "      <td>4.0</td>\n",
       "    </tr>\n",
       "    <tr>\n",
       "      <th>11</th>\n",
       "      <td>35</td>\n",
       "      <td>3</td>\n",
       "      <td>1</td>\n",
       "      <td>9000</td>\n",
       "      <td>4.0</td>\n",
       "    </tr>\n",
       "  </tbody>\n",
       "</table>\n",
       "</div>"
      ],
      "text/plain": [
       "    length  difficulty_encoded  type_encoded  popularity  rating\n",
       "8       40                   2             1       17000     4.2\n",
       "5       30                   1             1       12000     4.0\n",
       "2      120                   2             0       40000     4.3\n",
       "1       60                   2             1       30000     4.0\n",
       "11      35                   3             1        9000     4.0"
      ]
     },
     "execution_count": 10,
     "metadata": {},
     "output_type": "execute_result"
    }
   ],
   "source": [
    "X = df[['length', 'difficulty_encoded', 'type_encoded', 'popularity', 'rating']]\n",
    "y = df['score']\n",
    "\n",
    "X_train, X_test, y_train, y_test = train_test_split(\n",
    "    X, y, test_size=0.2, random_state=42\n",
    ")\n",
    "\n",
    "X_train.head()\n"
   ]
  },
  {
   "cell_type": "code",
   "execution_count": 11,
   "id": "91e7108a-40e4-4b8e-8a9f-7df6601ad772",
   "metadata": {},
   "outputs": [
    {
     "name": "stdout",
     "output_type": "stream",
     "text": [
      "Mean Squared Error with XGBoost: 7764365391.93\n"
     ]
    }
   ],
   "source": [
    "model = xgb.XGBRegressor(objective='reg:squarederror', n_estimators=100, max_depth=4, learning_rate=0.1)\n",
    "model.fit(X_train, y_train)\n",
    "\n",
    "y_pred = model.predict(X_test)\n",
    "\n",
    "mse = mean_squared_error(y_test, y_pred)\n",
    "print(f\"Mean Squared Error with XGBoost: {mse:.2f}\")\n"
   ]
  },
  {
   "cell_type": "code",
   "execution_count": 12,
   "id": "c47c1c55-5fc7-4eb3-9ecd-6ca3c3ce9e19",
   "metadata": {},
   "outputs": [
    {
     "name": "stdout",
     "output_type": "stream",
     "text": [
      "NDCG Score: 0.8584\n"
     ]
    }
   ],
   "source": [
    "y_true = y_test.values.reshape(1, -1)\n",
    "y_pred_reshaped = y_pred.reshape(1, -1)\n",
    "\n",
    "ndcg = ndcg_score(y_true, y_pred_reshaped)\n",
    "print(f\"NDCG Score: {ndcg:.4f}\")\n"
   ]
  },
  {
   "cell_type": "code",
   "execution_count": 13,
   "id": "47d826c7-d68b-4ca5-8e13-2ace4aaca800",
   "metadata": {},
   "outputs": [
    {
     "name": "stdout",
     "output_type": "stream",
     "text": [
      "XGBoost model saved successfully.\n"
     ]
    }
   ],
   "source": [
    "import joblib\n",
    "\n",
    "joblib.dump(model, '../models/xgb_ranker.pkl')\n",
    "print(\"XGBoost model saved successfully.\")\n"
   ]
  },
  {
   "cell_type": "code",
   "execution_count": null,
   "id": "b503fbd8-d0c3-46cd-a802-436f2dca58f3",
   "metadata": {},
   "outputs": [],
   "source": []
  }
 ],
 "metadata": {
  "kernelspec": {
   "display_name": "Python 3 (ipykernel)",
   "language": "python",
   "name": "python3"
  },
  "language_info": {
   "codemirror_mode": {
    "name": "ipython",
    "version": 3
   },
   "file_extension": ".py",
   "mimetype": "text/x-python",
   "name": "python",
   "nbconvert_exporter": "python",
   "pygments_lexer": "ipython3",
   "version": "3.12.0"
  }
 },
 "nbformat": 4,
 "nbformat_minor": 5
}
