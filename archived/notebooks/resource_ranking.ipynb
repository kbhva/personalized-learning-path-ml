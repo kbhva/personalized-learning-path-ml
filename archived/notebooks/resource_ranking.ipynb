{
 "cells": [
  {
   "cell_type": "code",
   "execution_count": 2,
   "id": "4728ce8c-48e2-4856-b9da-e6551d250339",
   "metadata": {},
   "outputs": [],
   "source": [
    "import pandas as pd\n",
    "import numpy as np\n",
    "import xgboost as xgb\n",
    "from sklearn.metrics import mean_squared_error, ndcg_score\n",
    "import matplotlib.pyplot as plt\n",
    "import seaborn as sns\n",
    "from sklearn.model_selection import train_test_split\n"
   ]
  },
  {
   "cell_type": "code",
   "execution_count": 3,
   "id": "6355e7a4-662c-48bd-b358-1934d4c58bea",
   "metadata": {},
   "outputs": [
    {
     "data": {
      "text/html": [
       "<div>\n",
       "<style scoped>\n",
       "    .dataframe tbody tr th:only-of-type {\n",
       "        vertical-align: middle;\n",
       "    }\n",
       "\n",
       "    .dataframe tbody tr th {\n",
       "        vertical-align: top;\n",
       "    }\n",
       "\n",
       "    .dataframe thead th {\n",
       "        text-align: right;\n",
       "    }\n",
       "</style>\n",
       "<table border=\"1\" class=\"dataframe\">\n",
       "  <thead>\n",
       "    <tr style=\"text-align: right;\">\n",
       "      <th></th>\n",
       "      <th>title</th>\n",
       "      <th>url</th>\n",
       "      <th>topic</th>\n",
       "      <th>length</th>\n",
       "      <th>popularity</th>\n",
       "      <th>rating</th>\n",
       "      <th>difficulty</th>\n",
       "      <th>type</th>\n",
       "      <th>difficulty_encoded</th>\n",
       "      <th>type_encoded</th>\n",
       "      <th>score</th>\n",
       "    </tr>\n",
       "  </thead>\n",
       "  <tbody>\n",
       "    <tr>\n",
       "      <th>0</th>\n",
       "      <td>Setting up a Python Development Environment in...</td>\n",
       "      <td>https://www.youtube.com/watch?v=xFciV6Ew5r4</td>\n",
       "      <td>Introduction to Python</td>\n",
       "      <td>19</td>\n",
       "      <td>50324</td>\n",
       "      <td>3.4</td>\n",
       "      <td>easy</td>\n",
       "      <td>video</td>\n",
       "      <td>1</td>\n",
       "      <td>0</td>\n",
       "      <td>171101.6</td>\n",
       "    </tr>\n",
       "    <tr>\n",
       "      <th>1</th>\n",
       "      <td>Python YouTube API Tutorial: Sort a Playlist b...</td>\n",
       "      <td>https://www.youtube.com/watch?v=1KO_HZtHOWI</td>\n",
       "      <td>Introduction to Python</td>\n",
       "      <td>36</td>\n",
       "      <td>50221</td>\n",
       "      <td>3.1</td>\n",
       "      <td>easy</td>\n",
       "      <td>video</td>\n",
       "      <td>1</td>\n",
       "      <td>0</td>\n",
       "      <td>155685.1</td>\n",
       "    </tr>\n",
       "    <tr>\n",
       "      <th>2</th>\n",
       "      <td>Python Tutorial: String Formatting - Advanced ...</td>\n",
       "      <td>https://www.youtube.com/watch?v=vTX3IwquFkc</td>\n",
       "      <td>Introduction to Python</td>\n",
       "      <td>29</td>\n",
       "      <td>50034</td>\n",
       "      <td>4.4</td>\n",
       "      <td>easy</td>\n",
       "      <td>video</td>\n",
       "      <td>1</td>\n",
       "      <td>0</td>\n",
       "      <td>220149.6</td>\n",
       "    </tr>\n",
       "    <tr>\n",
       "      <th>3</th>\n",
       "      <td>Matplotlib Tutorial (Part 7): Scatter Plots</td>\n",
       "      <td>https://www.youtube.com/watch?v=zZZ_RCwp49g</td>\n",
       "      <td>Introduction to Python</td>\n",
       "      <td>58</td>\n",
       "      <td>49523</td>\n",
       "      <td>3.3</td>\n",
       "      <td>easy</td>\n",
       "      <td>video</td>\n",
       "      <td>1</td>\n",
       "      <td>0</td>\n",
       "      <td>163425.9</td>\n",
       "    </tr>\n",
       "    <tr>\n",
       "      <th>4</th>\n",
       "      <td>Python Django Tutorial: Full-Featured Web App ...</td>\n",
       "      <td>https://www.youtube.com/watch?v=-s7e_Fy6NRU</td>\n",
       "      <td>Introduction to Python</td>\n",
       "      <td>58</td>\n",
       "      <td>48203</td>\n",
       "      <td>3.3</td>\n",
       "      <td>easy</td>\n",
       "      <td>video</td>\n",
       "      <td>1</td>\n",
       "      <td>0</td>\n",
       "      <td>159069.9</td>\n",
       "    </tr>\n",
       "  </tbody>\n",
       "</table>\n",
       "</div>"
      ],
      "text/plain": [
       "                                               title  \\\n",
       "0  Setting up a Python Development Environment in...   \n",
       "1  Python YouTube API Tutorial: Sort a Playlist b...   \n",
       "2  Python Tutorial: String Formatting - Advanced ...   \n",
       "3        Matplotlib Tutorial (Part 7): Scatter Plots   \n",
       "4  Python Django Tutorial: Full-Featured Web App ...   \n",
       "\n",
       "                                           url                   topic  \\\n",
       "0  https://www.youtube.com/watch?v=xFciV6Ew5r4  Introduction to Python   \n",
       "1  https://www.youtube.com/watch?v=1KO_HZtHOWI  Introduction to Python   \n",
       "2  https://www.youtube.com/watch?v=vTX3IwquFkc  Introduction to Python   \n",
       "3  https://www.youtube.com/watch?v=zZZ_RCwp49g  Introduction to Python   \n",
       "4  https://www.youtube.com/watch?v=-s7e_Fy6NRU  Introduction to Python   \n",
       "\n",
       "   length  popularity  rating difficulty   type  difficulty_encoded  \\\n",
       "0      19       50324     3.4       easy  video                   1   \n",
       "1      36       50221     3.1       easy  video                   1   \n",
       "2      29       50034     4.4       easy  video                   1   \n",
       "3      58       49523     3.3       easy  video                   1   \n",
       "4      58       48203     3.3       easy  video                   1   \n",
       "\n",
       "   type_encoded     score  \n",
       "0             0  171101.6  \n",
       "1             0  155685.1  \n",
       "2             0  220149.6  \n",
       "3             0  163425.9  \n",
       "4             0  159069.9  "
      ]
     },
     "execution_count": 3,
     "metadata": {},
     "output_type": "execute_result"
    }
   ],
   "source": [
    "df = pd.read_csv(\"../datasets/resources.csv\")\n",
    "\n",
    "difficulty_map = {'easy': 1, 'medium': 2, 'hard': 3}\n",
    "df['difficulty_encoded'] = df['difficulty'].map(difficulty_map)\n",
    "\n",
    "type_map = {'video': 0, 'article': 1}\n",
    "df['type_encoded'] = df['type'].map(type_map)\n",
    "\n",
    "df['score'] = df['rating'] * df['popularity']\n",
    "\n",
    "df = df.sort_values(by=\"popularity\", ascending=False).reset_index(drop=True)\n",
    "\n",
    "df.head()\n"
   ]
  },
  {
   "cell_type": "code",
   "execution_count": 4,
   "id": "63e4dd2b-f699-4b5e-96f5-67f08e7a5525",
   "metadata": {},
   "outputs": [
    {
     "name": "stdout",
     "output_type": "stream",
     "text": [
      "<class 'pandas.core.frame.DataFrame'>\n",
      "RangeIndex: 150 entries, 0 to 149\n",
      "Data columns (total 11 columns):\n",
      " #   Column              Non-Null Count  Dtype  \n",
      "---  ------              --------------  -----  \n",
      " 0   title               150 non-null    object \n",
      " 1   url                 150 non-null    object \n",
      " 2   topic               150 non-null    object \n",
      " 3   length              150 non-null    int64  \n",
      " 4   popularity          150 non-null    int64  \n",
      " 5   rating              150 non-null    float64\n",
      " 6   difficulty          150 non-null    object \n",
      " 7   type                150 non-null    object \n",
      " 8   difficulty_encoded  150 non-null    int64  \n",
      " 9   type_encoded        150 non-null    int64  \n",
      " 10  score               150 non-null    float64\n",
      "dtypes: float64(2), int64(4), object(5)\n",
      "memory usage: 13.0+ KB\n"
     ]
    },
    {
     "data": {
      "text/plain": [
       "title                 0\n",
       "url                   0\n",
       "topic                 0\n",
       "length                0\n",
       "popularity            0\n",
       "rating                0\n",
       "difficulty            0\n",
       "type                  0\n",
       "difficulty_encoded    0\n",
       "type_encoded          0\n",
       "score                 0\n",
       "dtype: int64"
      ]
     },
     "execution_count": 4,
     "metadata": {},
     "output_type": "execute_result"
    }
   ],
   "source": [
    "df.info()\n",
    "df.isnull().sum()"
   ]
  },
  {
   "cell_type": "code",
   "execution_count": 5,
   "id": "5914936e-e537-4ec6-8cf7-f078a0e7cbf8",
   "metadata": {},
   "outputs": [
    {
     "data": {
      "image/png": "[encoded data removed]",
      "text/plain": [
       "<Figure size 640x480 with 1 Axes>"
      ]
     },
     "metadata": {},
     "output_type": "display_data"
    },
    {
     "data": {
      "image/png": "[encoded data removed]",
      "text/plain": [
       "<Figure size 640x480 with 1 Axes>"
      ]
     },
     "metadata": {},
     "output_type": "display_data"
    }
   ],
   "source": [
    "sns.countplot(x=\"topic\", data=df)\n",
    "plt.title(\"Resources per Topic\")\n",
    "plt.xticks(rotation=45)\n",
    "plt.show()\n",
    "\n",
    "sns.boxplot(x=\"difficulty\", y=\"length\", data=df)\n",
    "plt.title(\"Length vs Difficulty\")\n",
    "plt.show()\n"
   ]
  },
  {
   "cell_type": "code",
   "execution_count": 6,
   "id": "e08eea0f-e518-409e-be52-e4fbe18a8091",
   "metadata": {},
   "outputs": [
    {
     "data": {
      "text/html": [
       "<div>\n",
       "<style scoped>\n",
       "    .dataframe tbody tr th:only-of-type {\n",
       "        vertical-align: middle;\n",
       "    }\n",
       "\n",
       "    .dataframe tbody tr th {\n",
       "        vertical-align: top;\n",
       "    }\n",
       "\n",
       "    .dataframe thead th {\n",
       "        text-align: right;\n",
       "    }\n",
       "</style>\n",
       "<table border=\"1\" class=\"dataframe\">\n",
       "  <thead>\n",
       "    <tr style=\"text-align: right;\">\n",
       "      <th></th>\n",
       "      <th>length</th>\n",
       "      <th>difficulty_encoded</th>\n",
       "      <th>type_encoded</th>\n",
       "      <th>popularity</th>\n",
       "      <th>rating</th>\n",
       "    </tr>\n",
       "  </thead>\n",
       "  <tbody>\n",
       "    <tr>\n",
       "      <th>22</th>\n",
       "      <td>44</td>\n",
       "      <td>1</td>\n",
       "      <td>0</td>\n",
       "      <td>42949</td>\n",
       "      <td>3.9</td>\n",
       "    </tr>\n",
       "    <tr>\n",
       "      <th>15</th>\n",
       "      <td>48</td>\n",
       "      <td>1</td>\n",
       "      <td>0</td>\n",
       "      <td>44793</td>\n",
       "      <td>4.3</td>\n",
       "    </tr>\n",
       "    <tr>\n",
       "      <th>65</th>\n",
       "      <td>73</td>\n",
       "      <td>1</td>\n",
       "      <td>0</td>\n",
       "      <td>29098</td>\n",
       "      <td>4.8</td>\n",
       "    </tr>\n",
       "    <tr>\n",
       "      <th>11</th>\n",
       "      <td>69</td>\n",
       "      <td>1</td>\n",
       "      <td>0</td>\n",
       "      <td>46594</td>\n",
       "      <td>4.4</td>\n",
       "    </tr>\n",
       "    <tr>\n",
       "      <th>42</th>\n",
       "      <td>50</td>\n",
       "      <td>1</td>\n",
       "      <td>0</td>\n",
       "      <td>38995</td>\n",
       "      <td>4.5</td>\n",
       "    </tr>\n",
       "  </tbody>\n",
       "</table>\n",
       "</div>"
      ],
      "text/plain": [
       "    length  difficulty_encoded  type_encoded  popularity  rating\n",
       "22      44                   1             0       42949     3.9\n",
       "15      48                   1             0       44793     4.3\n",
       "65      73                   1             0       29098     4.8\n",
       "11      69                   1             0       46594     4.4\n",
       "42      50                   1             0       38995     4.5"
      ]
     },
     "execution_count": 6,
     "metadata": {},
     "output_type": "execute_result"
    }
   ],
   "source": [
    "X = df[['length', 'difficulty_encoded', 'type_encoded', 'popularity', 'rating']]\n",
    "y = df['score']\n",
    "\n",
    "X_train, X_test, y_train, y_test = train_test_split(\n",
    "    X, y, test_size=0.2, random_state=42\n",
    ")\n",
    "\n",
    "X_train.head()\n"
   ]
  },
  {
   "cell_type": "code",
   "execution_count": 7,
   "id": "91e7108a-40e4-4b8e-8a9f-7df6601ad772",
   "metadata": {},
   "outputs": [
    {
     "name": "stdout",
     "output_type": "stream",
     "text": [
      "Mean Squared Error with XGBoost: 62617421.07\n"
     ]
    }
   ],
   "source": [
    "model = xgb.XGBRegressor(\n",
    "    objective='reg:squarederror',\n",
    "    n_estimators=300,\n",
    "    max_depth=6,\n",
    "    learning_rate=0.05,\n",
    "    subsample=0.8,\n",
    "    colsample_bytree=0.8,\n",
    "    random_state=42\n",
    ")\n",
    "\n",
    "model.fit(X_train, y_train)\n",
    "\n",
    "y_pred = model.predict(X_test)\n",
    "\n",
    "mse = mean_squared_error(y_test, y_pred)\n",
    "print(f\"Mean Squared Error with XGBoost: {mse:.2f}\")\n"
   ]
  },
  {
   "cell_type": "code",
   "execution_count": 8,
   "id": "c47c1c55-5fc7-4eb3-9ecd-6ca3c3ce9e19",
   "metadata": {},
   "outputs": [
    {
     "name": "stdout",
     "output_type": "stream",
     "text": [
      "NDCG Score: 0.9935\n"
     ]
    }
   ],
   "source": [
    "y_true = y_test.values.reshape(1, -1)\n",
    "y_pred_reshaped = y_pred.reshape(1, -1)\n",
    "\n",
    "ndcg = ndcg_score(y_true, y_pred_reshaped)\n",
    "print(f\"NDCG Score: {ndcg:.4f}\")\n"
   ]
  },
  {
   "cell_type": "code",
   "execution_count": 9,
   "id": "47d826c7-d68b-4ca5-8e13-2ace4aaca800",
   "metadata": {},
   "outputs": [
    {
     "name": "stdout",
     "output_type": "stream",
     "text": [
      "XGBoost model saved successfully.\n"
     ]
    }
   ],
   "source": [
    "import joblib\n",
    "\n",
    "joblib.dump(model, '../models/xgb_ranker.pkl')\n",
    "print(\"XGBoost model saved successfully.\")\n"
   ]
  },
  {
   "cell_type": "code",
   "execution_count": null,
   "id": "b503fbd8-d0c3-46cd-a802-436f2dca58f3",
   "metadata": {},
   "outputs": [],
   "source": []
  }
 ],
 "metadata": {
  "kernelspec": {
   "display_name": "Python 3 (ipykernel)",
   "language": "python",
   "name": "python3"
  },
  "language_info": {
   "codemirror_mode": {
    "name": "ipython",
    "version": 3
   },
   "file_extension": ".py",
   "mimetype": "text/x-python",
   "name": "python",
   "nbconvert_exporter": "python",
   "pygments_lexer": "ipython3",
   "version": "3.12.0"
  }
 },
 "nbformat": 4,
 "nbformat_minor": 5
}
